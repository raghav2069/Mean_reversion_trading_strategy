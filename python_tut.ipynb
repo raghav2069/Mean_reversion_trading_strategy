{
  "nbformat": 4,
  "nbformat_minor": 0,
  "metadata": {
    "colab": {
      "name": "python tut.ipynb",
      "provenance": [],
      "authorship_tag": "ABX9TyNAgZFz7lB7QlwwfEo8MS70",
      "include_colab_link": true
    },
    "kernelspec": {
      "name": "python3",
      "display_name": "Python 3"
    },
    "language_info": {
      "name": "python"
    }
  },
  "cells": [
    {
      "cell_type": "markdown",
      "metadata": {
        "id": "view-in-github",
        "colab_type": "text"
      },
      "source": [
        "<a href=\"https://colab.research.google.com/github/raghav2069/python-tutorial/blob/main/python_tut.ipynb\" target=\"_parent\"><img src=\"https://colab.research.google.com/assets/colab-badge.svg\" alt=\"Open In Colab\"/></a>"
      ]
    },
    {
      "cell_type": "code",
      "metadata": {
        "colab": {
          "base_uri": "https://localhost:8080/"
        },
        "id": "hJYh_R3LazNQ",
        "outputId": "eaeda4a5-3afa-432e-c2ef-0987a99ab2ee"
      },
      "source": [
        "n=int(input(\"Enter a number:\"))\n",
        "tot=0\n",
        "while(n>0):\n",
        "    dig=n%10\n",
        "    tot=tot+dig\n",
        "    n=n//10\n",
        "print(\"The total sum of digits is:\",tot)\n"
      ],
      "execution_count": 7,
      "outputs": [
        {
          "output_type": "stream",
          "text": [
            "Enter a number:54\n",
            "The total sum of digits is: 9\n"
          ],
          "name": "stdout"
        }
      ]
    },
    {
      "cell_type": "code",
      "metadata": {
        "colab": {
          "base_uri": "https://localhost:8080/"
        },
        "id": "C9w-XII8bPQY",
        "outputId": "92b7acde-a5ad-4eee-f923-17b8bf934cee"
      },
      "source": [
        "num = int(input(\"Enter a number: \"))  \n",
        "factorial = 1  \n",
        "if num < 0:  \n",
        "   print(\"Sorry, factorial does not exist for negative numbers\")  \n",
        "elif num == 0:  \n",
        "   print(\"The factorial of 0 is 1\")  \n",
        "else:  \n",
        "   for i in range(1,num + 1):  \n",
        "       factorial = factorial*i  \n",
        "   print(\"The factorial of\",num,\"is\",factorial) "
      ],
      "execution_count": 8,
      "outputs": [
        {
          "output_type": "stream",
          "text": [
            "Enter a number: 6\n",
            "The factorial of 6 is 720\n"
          ],
          "name": "stdout"
        }
      ]
    },
    {
      "cell_type": "code",
      "metadata": {
        "id": "s64eEqsOczGg"
      },
      "source": [
        "t = int(input())\n",
        "for i in range(t):\n",
        "    n, c = [int(x) for x in input().split()]\n",
        "    arr = [int(y) for y in input().split()]\n",
        "    if c >= sum(arr):\n",
        "        print(\"Yes\")\n",
        "    else:\n",
        "        print(\"No\")"
      ],
      "execution_count": null,
      "outputs": []
    },
    {
      "cell_type": "code",
      "metadata": {
        "id": "wPF3Kbfwd6x8"
      },
      "source": [
        "for o in range(int(input())):\n",
        "    n=int(input())\n",
        "    l=[int (i) for i in input().split()]\n",
        "    c1,c2=0,5\n",
        "    y=0\n",
        "    x=l.index(1)\n",
        "    for i in range(x+1,n):\n",
        "        if(l[i]==0):\n",
        "            c1+=1\n",
        "        elif(l[i]==1 and c1>=c2):\n",
        "            c1=0\n",
        "        elif(l[i]==1 and c1<c2):\n",
        "            y=1\n",
        "            break\n",
        "    if(y==1):\n",
        "        print(\"NO\")\n",
        "    else:\n",
        "        print(\"YES\")\n",
        "            "
      ],
      "execution_count": null,
      "outputs": []
    }
  ]
}